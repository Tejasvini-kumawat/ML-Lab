{
 "cells": [
  {
   "cell_type": "code",
   "execution_count": 2,
   "id": "370eac8a",
   "metadata": {},
   "outputs": [],
   "source": [
    "import pandas as pd\n",
    "from sklearn.model_selection import train_test_split\n",
    "from sklearn.preprocessing import LabelEncoder\n",
    "from sklearn.naive_bayes import GaussianNB\n",
    "from sklearn.metrics import classification_report, confusion_matrix, accuracy_score\n",
    "import seaborn as sns\n",
    "import matplotlib.pyplot as plt"
   ]
  },
  {
   "cell_type": "code",
   "execution_count": 3,
   "id": "582dae3b",
   "metadata": {},
   "outputs": [],
   "source": [
    "# Load the dataset\n",
    "df = pd.read_csv('student_data.csv')  # Adjust path if needed"
   ]
  },
  {
   "cell_type": "code",
   "execution_count": 4,
   "id": "df420eef",
   "metadata": {},
   "outputs": [],
   "source": [
    "# Convert G3 to Pass/Fail for classification\n",
    "df['Performance'] = df['G3'].apply(lambda x: 'Pass' if x >= 10 else 'Fail')\n",
    "\n",
    "# Drop original G1, G2, G3\n",
    "df = df.drop(['G1', 'G2', 'G3'], axis=1)"
   ]
  },
  {
   "cell_type": "code",
   "execution_count": 5,
   "id": "4c80b795",
   "metadata": {},
   "outputs": [],
   "source": [
    "# Encode categorical features\n",
    "label_encoders = {}\n",
    "for col in df.select_dtypes(include='object').columns:\n",
    "    le = LabelEncoder()\n",
    "    df[col] = le.fit_transform(df[col])\n",
    "    label_encoders[col] = le"
   ]
  },
  {
   "cell_type": "code",
   "execution_count": 6,
   "id": "f1f39c18",
   "metadata": {},
   "outputs": [
    {
     "name": "stdout",
     "output_type": "stream",
     "text": [
      "Target encoding: {0: 0, 1: 1}\n"
     ]
    }
   ],
   "source": [
    "# Encode target\n",
    "target_le = LabelEncoder()\n",
    "df['Performance'] = target_le.fit_transform(df['Performance'])\n",
    "print(\"Target encoding:\", dict(zip(target_le.classes_, target_le.transform(target_le.classes_))))  # {'Fail': 0, 'Pass': 1}\n"
   ]
  },
  {
   "cell_type": "code",
   "execution_count": 7,
   "id": "f9e39d29",
   "metadata": {},
   "outputs": [],
   "source": [
    "# Split features and target\n",
    "X = df.drop('Performance', axis=1)\n",
    "y = df['Performance']\n",
    "\n",
    "# Train-test split\n",
    "X_train, X_test, y_train, y_test = train_test_split(X, y, test_size=0.2, random_state=42)\n",
    "\n",
    "# Train Gaussian Naive Bayes\n",
    "model = GaussianNB()\n",
    "model.fit(X_train, y_train)\n",
    "\n",
    "# Predict\n",
    "y_pred = model.predict(X_test)"
   ]
  },
  {
   "cell_type": "code",
   "execution_count": 8,
   "id": "748d1a6f",
   "metadata": {},
   "outputs": [
    {
     "name": "stdout",
     "output_type": "stream",
     "text": [
      "\n",
      "=== Naive Bayes - Student Performance ===\n",
      "0 => Fail\n",
      "1 => Pass\n",
      "\n",
      "Confusion Matrix:\n",
      " [[ 9 18]\n",
      " [ 5 47]]\n",
      "\n",
      "Classification Report:\n",
      "               precision    recall  f1-score   support\n",
      "\n",
      "           0       0.64      0.33      0.44        27\n",
      "           1       0.72      0.90      0.80        52\n",
      "\n",
      "    accuracy                           0.71        79\n",
      "   macro avg       0.68      0.62      0.62        79\n",
      "weighted avg       0.70      0.71      0.68        79\n",
      "\n",
      "Accuracy: 0.7088607594936709\n"
     ]
    },
    {
     "data": {
      "image/png": "[encoded data removed]",
      "text/plain": [
       "<Figure size 640x480 with 2 Axes>"
      ]
     },
     "metadata": {},
     "output_type": "display_data"
    }
   ],
   "source": [
    "# Evaluation\n",
    "print(\"\\n=== Naive Bayes - Student Performance ===\")\n",
    "print(\"0 => Fail\\n1 => Pass\\n\")\n",
    "print(\"Confusion Matrix:\\n\", confusion_matrix(y_test, y_pred))\n",
    "print(\"\\nClassification Report:\\n\", classification_report(y_test, y_pred))\n",
    "print(\"Accuracy:\", accuracy_score(y_test, y_pred))\n",
    "\n",
    "# Confusion matrix heatmap\n",
    "labels = ['Fail', 'Pass']\n",
    "sns.heatmap(confusion_matrix(y_test, y_pred), annot=True, fmt='d',\n",
    "            xticklabels=labels, yticklabels=labels, cmap='coolwarm')\n",
    "plt.title(\"Confusion Matrix - Student Performance\")\n",
    "plt.xlabel(\"Predicted\")\n",
    "plt.ylabel(\"Actual\")\n",
    "plt.show()"
   ]
  },
  {
   "cell_type": "code",
   "execution_count": null,
   "id": "908cc0e4",
   "metadata": {},
   "outputs": [],
   "source": []
  }
 ],
 "metadata": {
  "kernelspec": {
   "display_name": "Python 3",
   "language": "python",
   "name": "python3"
  },
  "language_info": {
   "codemirror_mode": {
    "name": "ipython",
    "version": 3
   },
   "file_extension": ".py",
   "mimetype": "text/x-python",
   "name": "python",
   "nbconvert_exporter": "python",
   "pygments_lexer": "ipython3",
   "version": "3.12.5"
  }
 },
 "nbformat": 4,
 "nbformat_minor": 5
}
